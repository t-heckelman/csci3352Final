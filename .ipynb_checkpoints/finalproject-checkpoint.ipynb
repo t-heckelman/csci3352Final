{
 "cells": [
  {
   "cell_type": "markdown",
   "id": "95072021-c863-4930-bbcb-27a83f8a1e44",
   "metadata": {},
   "source": [
    "# Final Project: Analyzing Connectomes in a Cat\n",
    "\n",
    "***\n",
    "\n",
    "**Name**: Teddy Heckelman\n",
    "\n",
    "***\n"
   ]
  },
  {
   "cell_type": "code",
   "execution_count": 3,
   "id": "dc06a4b0-7940-46e4-a21a-02dad2606ac0",
   "metadata": {},
   "outputs": [],
   "source": [
    "############## IMPORTS #################\n",
    "import networkx as nx\n",
    "import numpy as np\n",
    "import matplotlib\n",
    "import matplotlib.pylab as plt\n",
    "\n",
    "%matplotlib inline"
   ]
  },
  {
   "cell_type": "code",
   "execution_count": 4,
   "id": "4d180614-e455-4830-bff6-f91b94bb9177",
   "metadata": {},
   "outputs": [
    {
     "name": "stdout",
     "output_type": "stream",
     "text": [
      "reading the network file : mixed.species_brain_1.graphml\n",
      "\n"
     ]
    }
   ],
   "source": [
    "fname1 = 'mixed.species_brain_1.graphml'\n",
    "print(f'reading the network file : {fname1}\\n')\n",
    "G = nx.read_edgelist('./' + fname1, delimiter=',', nodetype=int)  # import as a simple graph, index nodes by integers (not strings)"
   ]
  },
  {
   "cell_type": "code",
   "execution_count": null,
   "id": "51dc9e5f-280c-465d-9dce-6250ba6760cc",
   "metadata": {},
   "outputs": [],
   "source": [
    "s = nx.draw(G, pos = nx.spring_layout(G))\n",
    "plt.show(s) #spring\n",
    "n = G.number_of_nodes()\n",
    "m = G.number_of_edges()\n",
    "kmean = 2*m/n\n",
    "C = nx.transitivity(G)\n",
    "ellmean = nx.average_shortest_path_length(G)\n",
    "l = sorted(G.degree, key=lambda x: x[1], reverse=True)\n",
    "list_of_degrees = []\n",
    "for i in range(len(l)):\n",
    "    list_of_degrees.append(l[i][1])\n",
    "def plot_CCDF(kis):\n",
    "    # input : a list of degrees, e.g., from a networkx graph G\n",
    "    # output: a plot of the CCDF of the degree distribution Pr(K>=k) for k>=1\n",
    "    \n",
    "    kmax = max(kis)\n",
    "\n",
    "    # histogram and plot\n",
    "    counts, bins = np.histogram(kis, bins=[i for i in range(kmax+2)], density=True)\n",
    "    cumcounts = np.cumsum(counts)\n",
    "    cumcounts = np.insert(cumcounts,0,0)\n",
    "    plt.loglog(bins[1:-1], 1-cumcounts[1:-1], 'rs', alpha=0.5)\n",
    "    plt.xlabel('Degree, k')\n",
    "    plt.ylabel('Pr(K>=k)')\n",
    "    plt.show()\n",
    "    return\n",
    "\n",
    "plot_CCDF(list_of_degrees)\n",
    "\n",
    "\n",
    "\n",
    "print(f'number of nodes, n  = {n}')\n",
    "print(f'number of edges, m  = {m}')\n",
    "print(f'mean degree,    <k> = %5.2f' % kmean)\n",
    "print(f'clustering coefficient, C     = %5.2f' % C)\n",
    "print(f'mean geodesic distance, <ell> = %5.2f' % ellmean)"
   ]
  },
  {
   "cell_type": "code",
   "execution_count": null,
   "id": "ffa87409-4c56-4cdb-9d1b-a86330a26c96",
   "metadata": {},
   "outputs": [],
   "source": []
  }
 ],
 "metadata": {
  "kernelspec": {
   "display_name": "Python 3 (ipykernel)",
   "language": "python",
   "name": "python3"
  },
  "language_info": {
   "codemirror_mode": {
    "name": "ipython",
    "version": 3
   },
   "file_extension": ".py",
   "mimetype": "text/x-python",
   "name": "python",
   "nbconvert_exporter": "python",
   "pygments_lexer": "ipython3",
   "version": "3.10.8"
  }
 },
 "nbformat": 4,
 "nbformat_minor": 5
}
